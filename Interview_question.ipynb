{
 "cells": [
  {
   "cell_type": "code",
   "execution_count": 3,
   "metadata": {},
   "outputs": [],
   "source": []
  },
  {
   "cell_type": "code",
   "execution_count": 5,
   "metadata": {},
   "outputs": [
    {
     "name": "stdout",
     "output_type": "stream",
     "text": [
      "măN nôuM hniV gnauQ maN tệiV nảS gnộC gnảĐ\n",
      "iỡh me uâđ nòc ,uahn nòc at aưx cứ ýk gnùV\n"
     ]
    }
   ],
   "source": [
    "print(sample_1[::-1])\n",
    "print(sample_2[::-1])\n",
    "\n"
   ]
  },
  {
   "cell_type": "code",
   "execution_count": null,
   "metadata": {},
   "outputs": [],
   "source": [
    "\n",
    "sample_1_split = sample_1.split(\" \")\n",
    "print(sample_1_split)\n",
    "sample_1_split.reverse()\n",
    "print(sample_1_split)\n",
    "\n",
    "sample_2_split = sample_2.split(\" \")\n",
    "print(sample_2_split)\n",
    "sample_2_split.reverse()\n",
    "print(sample_2_split)"
   ]
  },
  {
   "cell_type": "code",
   "execution_count": 11,
   "metadata": {},
   "outputs": [
    {
     "name": "stdout",
     "output_type": "stream",
     "text": [
      "Năm Muôn Vinh Quang Nam Việt Sản Cộng Đảng\n"
     ]
    }
   ],
   "source": [
    "\n",
    "# 2. reverse each letter\n",
    "sample_1_split = sample_1.split(\" \")\n",
    "sample_1_split.reverse()\n",
    "reverse_letter_sample_1 = ' '.join(sample_1_split)\n",
    "print(reverse_letter_sample_1)\n",
    "\n"
   ]
  },
  {
   "cell_type": "code",
   "execution_count": 12,
   "metadata": {},
   "outputs": [
    {
     "name": "stdout",
     "output_type": "stream",
     "text": [
      "hỡi em đâu còn nhau, còn ta xưa ức ký Vùng\n"
     ]
    }
   ],
   "source": [
    "sample_2_split = sample_2.split(\" \")\n",
    "sample_2_split.reverse()\n",
    "reverse_letter_sample_2 = ' '.join(sample_2_split)\n",
    "print(reverse_letter_sample_2)"
   ]
  },
  {
   "cell_type": "code",
   "execution_count": 18,
   "metadata": {},
   "outputs": [
    {
     "name": "stdout",
     "output_type": "stream",
     "text": [
      "còn đâu em hỡi, Vùng ký ức xưa ta còn nhau\n"
     ]
    }
   ],
   "source": [
    "# 3. reverse phrase (đảo vế)\n",
    "sample_2_split = sample_2.split(', ')\n",
    "sample_2_split.reverse()\n",
    "reverse_phrase_sample_2 = ', '.join(sample_2_split)\n",
    "print(reverse_phrase_sample_2)\n"
   ]
  }
 ],
 "metadata": {
  "kernelspec": {
   "display_name": "base",
   "language": "python",
   "name": "python3"
  },
  "language_info": {
   "codemirror_mode": {
    "name": "ipython",
    "version": 3
   },
   "file_extension": ".py",
   "mimetype": "text/x-python",
   "name": "python",
   "nbconvert_exporter": "python",
   "pygments_lexer": "ipython3",
   "version": "3.10.9"
  },
  "orig_nbformat": 4
 },
 "nbformat": 4,
 "nbformat_minor": 2
}
